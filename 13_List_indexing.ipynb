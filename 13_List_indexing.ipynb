{
 "cells": [
  {
   "cell_type": "code",
   "execution_count": 11,
   "metadata": {},
   "outputs": [],
   "source": [
    "word = 'word'\n",
    "myList = [1,4,7,'hi',88,'python',word]\n",
    "myListWithinList = [1,4,7,'hi',88,[1,2,3,4],'python',word]\n",
    "myListWithinListWithinList = [1,4,7,'hi',88,[1,[2,35],3,4],'python',word]"
   ]
  },
  {
   "cell_type": "code",
   "execution_count": 13,
   "metadata": {},
   "outputs": [
    {
     "name": "stdout",
     "output_type": "stream",
     "text": [
      "python\n",
      "2\n",
      "35\n"
     ]
    }
   ],
   "source": [
    "printList = myList[5]\n",
    "print(printList)\n",
    "\n",
    "printListWithinList = myListWithinList[5][1]\n",
    "print(printListWithinList)\n",
    "\n",
    "printListWithinListWithinList = myListWithinListWithinList[5][1][1]\n",
    "print(printListWithinListWithinList)"
   ]
  }
 ],
 "metadata": {
  "kernelspec": {
   "display_name": "Python 3",
   "language": "python",
   "name": "python3"
  },
  "language_info": {
   "codemirror_mode": {
    "name": "ipython",
    "version": 3
   },
   "file_extension": ".py",
   "mimetype": "text/x-python",
   "name": "python",
   "nbconvert_exporter": "python",
   "pygments_lexer": "ipython3",
   "version": "3.10.8"
  },
  "orig_nbformat": 4
 },
 "nbformat": 4,
 "nbformat_minor": 2
}
