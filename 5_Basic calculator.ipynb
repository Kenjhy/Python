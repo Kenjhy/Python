{
 "cells": [
  {
   "cell_type": "code",
   "execution_count": 11,
   "id": "eaea32d1",
   "metadata": {},
   "outputs": [
    {
     "data": {
      "text/plain": [
       "\"\\n- Ask the user their name \\n- Have the user provide three numbers\\n- Add the first two numbers together, then multiply the result with the third number\\n- Output the result in a long sentence that includes the user's name,  the numbers they chose, and the following result\\n\""
      ]
     },
     "execution_count": 11,
     "metadata": {},
     "output_type": "execute_result"
    }
   ],
   "source": [
    "'''\n",
    "- Ask the user their name \n",
    "- Have the user provide three numbers\n",
    "- Add the first two numbers together, then multiply the result with the third number\n",
    "- Output the result in a long sentence that includes the user's name,  the numbers they chose, and the following result\n",
    "'''"
   ]
  },
  {
   "cell_type": "code",
   "execution_count": 2,
   "id": "9f95cd6f",
   "metadata": {
    "scrolled": true
   },
   "outputs": [
    {
     "name": "stdout",
     "output_type": "stream",
     "text": [
      "Hi, what's your name? hh\n",
      "Please enter three numbers\n",
      "Please choose your first number: 1\n",
      "Please choose your second number: 2\n",
      "Please choose your third number: 3\n"
     ]
    }
   ],
   "source": [
    "user_name = input(\"Hi, what's your name? \")\n",
    "print(\"Please enter three numbers\")\n",
    "num_one = int(input(\"Please choose your first number: \"))\n",
    "num_two = int(input(\"Please choose your second number: \"))\n",
    "num_three = int(input(\"Please choose your third number: \"))"
   ]
  },
  {
   "cell_type": "code",
   "execution_count": 4,
   "id": "09768742",
   "metadata": {},
   "outputs": [],
   "source": [
    "result = (num_one + num_two) * num_three"
   ]
  },
  {
   "cell_type": "code",
   "execution_count": 5,
   "id": "c996406b",
   "metadata": {},
   "outputs": [
    {
     "name": "stdout",
     "output_type": "stream",
     "text": [
      "Hello, hh. You chose 1, 2 and 3 as your numbers. 9 is your result\n"
     ]
    }
   ],
   "source": [
    "print(\"Hello, {}. You chose {}, {} and {} as your numbers. {} is your result\".format(user_name, num_one, num_two, num_three, result))\n"
   ]
  },
  {
   "cell_type": "code",
   "execution_count": null,
   "id": "884e4d97",
   "metadata": {},
   "outputs": [],
   "source": []
  }
 ],
 "metadata": {
  "kernelspec": {
   "display_name": "Python 3 (ipykernel)",
   "language": "python",
   "name": "python3"
  },
  "language_info": {
   "codemirror_mode": {
    "name": "ipython",
    "version": 3
   },
   "file_extension": ".py",
   "mimetype": "text/x-python",
   "name": "python",
   "nbconvert_exporter": "python",
   "pygments_lexer": "ipython3",
   "version": "3.10.8"
  }
 },
 "nbformat": 4,
 "nbformat_minor": 5
}
