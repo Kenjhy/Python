{
 "cells": [
  {
   "cell_type": "code",
   "execution_count": 2,
   "metadata": {},
   "outputs": [
    {
     "data": {
      "text/plain": [
       "'\\nCreate a program that emulate a twister spinner\\neach time the program is run it outputs one of each of the following (at random): \\none colour (red,green,blue,yellow)\\nleft hand or rigt hand or left foot or right foot\\n'"
      ]
     },
     "execution_count": 2,
     "metadata": {},
     "output_type": "execute_result"
    }
   ],
   "source": [
    "'''\n",
    "Create a program that emulate a twister spinner\n",
    "each time the program is run it outputs one of each of the following (at random): \n",
    "one colour (red,green,blue,yellow)\n",
    "left hand or right hand or left foot or right foot\n",
    "'''"
   ]
  },
  {
   "cell_type": "code",
   "execution_count": 3,
   "metadata": {},
   "outputs": [
    {
     "data": {
      "text/plain": [
       "'\\nSomehow output choices from a list of colour (Need to research random a list)\\nDo the same for body parts\\nOutput the results\\n'"
      ]
     },
     "execution_count": 3,
     "metadata": {},
     "output_type": "execute_result"
    }
   ],
   "source": [
    "'''\n",
    "Somehow output choices from a list of colour (Need to research random a list)\n",
    "Do the same for body parts\n",
    "Output the results\n",
    "'''"
   ]
  },
  {
   "cell_type": "code",
   "execution_count": 6,
   "metadata": {},
   "outputs": [
    {
     "name": "stdout",
     "output_type": "stream",
     "text": [
      "Twister spiner says: Left hand, red\n"
     ]
    }
   ],
   "source": [
    "import random\n",
    "\n",
    "colours = ['red', 'green', 'blue', 'yellow']\n",
    "body_parts = ['Left foot', 'Right food', 'Left hand', 'Right hand']\n",
    "\n",
    "colour_choice = random.choice(colours)\n",
    "body_choice = random.choice(body_parts)\n",
    "\n",
    "print('Twister spiner says: {}, {}'.format(body_choice, colour_choice))"
   ]
  }
 ],
 "metadata": {
  "kernelspec": {
   "display_name": "Python 3",
   "language": "python",
   "name": "python3"
  },
  "language_info": {
   "codemirror_mode": {
    "name": "ipython",
    "version": 3
   },
   "file_extension": ".py",
   "mimetype": "text/x-python",
   "name": "python",
   "nbconvert_exporter": "python",
   "pygments_lexer": "ipython3",
   "version": "3.10.8"
  },
  "orig_nbformat": 4,
  "vscode": {
   "interpreter": {
    "hash": "c63d8c7d738c2960218a10995aedf0a7f67a49a231e71037adf0440953cdb45b"
   }
  }
 },
 "nbformat": 4,
 "nbformat_minor": 2
}
