{
 "cells": [
  {
   "cell_type": "code",
   "execution_count": 6,
   "id": "191caaba",
   "metadata": {},
   "outputs": [
    {
     "name": "stdout",
     "output_type": "stream",
     "text": [
      "Jhon is30 and his main hobby isHiking\n",
      "Jhon is 30 and his main hobby is Hiking\n"
     ]
    }
   ],
   "source": [
    "name = 'Jhon'\n",
    "age = 30\n",
    "hobby = 'Hiking'\n",
    "\n",
    "print (name + \" is \" + str(age) + \" and his main hobby is\" + hobby)\n",
    "print (\"{} is {} and his main hobby is {}\".format(name,age,hobby))"
   ]
  },
  {
   "cell_type": "code",
   "execution_count": null,
   "id": "2467b3b2",
   "metadata": {},
   "outputs": [],
   "source": []
  }
 ],
 "metadata": {
  "kernelspec": {
   "display_name": "Python 3 (ipykernel)",
   "language": "python",
   "name": "python3"
  },
  "language_info": {
   "codemirror_mode": {
    "name": "ipython",
    "version": 3
   },
   "file_extension": ".py",
   "mimetype": "text/x-python",
   "name": "python",
   "nbconvert_exporter": "python",
   "pygments_lexer": "ipython3",
   "version": "3.10.8"
  }
 },
 "nbformat": 4,
 "nbformat_minor": 5
}
