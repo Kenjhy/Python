{
 "cells": [
  {
   "cell_type": "code",
   "execution_count": 4,
   "id": "ac65723b",
   "metadata": {},
   "outputs": [
    {
     "data": {
      "text/plain": [
       "'\\n\\n numbers\\nstrings (text)\\nlists (javascripy - arrays)\\ndictionaries\\nTuples\\nSets\\n'"
      ]
     },
     "execution_count": 4,
     "metadata": {},
     "output_type": "execute_result"
    }
   ],
   "source": [
    "'''\n",
    "numbers\n",
    "strings (text)\n",
    "lists (javascripy - arrays)\n",
    "dictionaries\n",
    "Tuples\n",
    "Sets\n",
    "'''"
   ]
  },
  {
   "cell_type": "code",
   "execution_count": 8,
   "id": "893c4a7c",
   "metadata": {},
   "outputs": [],
   "source": [
    "#numbers (integers - 908, floats - 1.4)\n",
    "number_one = 908\n",
    "float_one = 9.6\n",
    "string_one = 'Hi my name is Daniel'\n",
    "a_list = [3,4,'Hi',3.4,[1,[2,4,5,6],3]]\n",
    "a_dict = {'daniel':2,'bill':5,'hank':1}\n",
    "a_list_two = [\n",
    "    \t\t\t3,4,'Hi',3.4,\n",
    "              \t[\n",
    "                  \t1,\n",
    "                    [2,4,5,6],\n",
    "               \t\t3\n",
    "                ]\n",
    "             ]"
   ]
  },
  {
   "cell_type": "code",
   "execution_count": 9,
   "id": "d86f731b",
   "metadata": {},
   "outputs": [
    {
     "data": {
      "text/plain": [
       "dict"
      ]
     },
     "execution_count": 9,
     "metadata": {},
     "output_type": "execute_result"
    }
   ],
   "source": [
    "type(number_one)\n",
    "type(float_one)\n",
    "type(string_one)\n",
    "type(a_list)\n",
    "type(a_dict)\n",
    "\n"
   ]
  },
  {
   "cell_type": "code",
   "execution_count": 13,
   "id": "ec7dd285",
   "metadata": {},
   "outputs": [
    {
     "data": {
      "text/plain": [
       "96"
      ]
     },
     "execution_count": 13,
     "metadata": {},
     "output_type": "execute_result"
    }
   ],
   "source": [
    "str(7)\n",
    "my_number = 7\n",
    "my_string = 'hi'\n",
    "str(my_number) + my_string\n",
    "\n",
    "my_number = 7\n",
    "my_string = '89'\n",
    "my_number + int(my_string)"
   ]
  },
  {
   "cell_type": "code",
   "execution_count": null,
   "id": "9d1cc68b",
   "metadata": {},
   "outputs": [],
   "source": []
  }
 ],
 "metadata": {
  "kernelspec": {
   "display_name": "Python 3 (ipykernel)",
   "language": "python",
   "name": "python3"
  },
  "language_info": {
   "codemirror_mode": {
    "name": "ipython",
    "version": 3
   },
   "file_extension": ".py",
   "mimetype": "text/x-python",
   "name": "python",
   "nbconvert_exporter": "python",
   "pygments_lexer": "ipython3",
   "version": "3.10.8"
  }
 },
 "nbformat": 4,
 "nbformat_minor": 5
}
