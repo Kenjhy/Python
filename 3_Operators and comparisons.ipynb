{
 "cells": [
  {
   "cell_type": "code",
   "execution_count": 1,
   "id": "1043adc3",
   "metadata": {},
   "outputs": [
    {
     "data": {
      "text/plain": [
       "'\\nOperators: + - / * ** %\\nComparison: > < >= <= == !=\\nLogical operators: and or \\n\\n'"
      ]
     },
     "execution_count": 1,
     "metadata": {},
     "output_type": "execute_result"
    }
   ],
   "source": [
    "'''\n",
    "Operators: + - / * ** %\n",
    "Comparison: > < >= <= == !=\n",
    "Logical operators: and or \n",
    "\n",
    "'''"
   ]
  },
  {
   "cell_type": "code",
   "execution_count": 2,
   "id": "d8dbc0a6",
   "metadata": {},
   "outputs": [
    {
     "data": {
      "text/plain": [
       "2"
      ]
     },
     "execution_count": 2,
     "metadata": {},
     "output_type": "execute_result"
    }
   ],
   "source": [
    "10+2 #Addition\n",
    "1-10 #Subtraction\n",
    "10/5 #Division\n",
    "2**5 #2 to the power 5\n",
    "10%4 #The remained when 10 is divided by (2)"
   ]
  },
  {
   "cell_type": "code",
   "execution_count": 6,
   "id": "4ab32646",
   "metadata": {},
   "outputs": [
    {
     "data": {
      "text/plain": [
       "True"
      ]
     },
     "execution_count": 6,
     "metadata": {},
     "output_type": "execute_result"
    }
   ],
   "source": [
    "10<20 and 30<20\n",
    "10<20 or 30<20\n"
   ]
  },
  {
   "cell_type": "code",
   "execution_count": null,
   "id": "aafda100",
   "metadata": {},
   "outputs": [],
   "source": []
  }
 ],
 "metadata": {
  "kernelspec": {
   "display_name": "Python 3 (ipykernel)",
   "language": "python",
   "name": "python3"
  },
  "language_info": {
   "codemirror_mode": {
    "name": "ipython",
    "version": 3
   },
   "file_extension": ".py",
   "mimetype": "text/x-python",
   "name": "python",
   "nbconvert_exporter": "python",
   "pygments_lexer": "ipython3",
   "version": "3.10.8"
  }
 },
 "nbformat": 4,
 "nbformat_minor": 5
}
