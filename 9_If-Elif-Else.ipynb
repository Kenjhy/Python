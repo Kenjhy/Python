{
 "cells": [
  {
   "cell_type": "code",
   "execution_count": 1,
   "metadata": {},
   "outputs": [
    {
     "data": {
      "text/plain": [
       "'Programme for checking the temprature of a nuclear power'"
      ]
     },
     "execution_count": 1,
     "metadata": {},
     "output_type": "execute_result"
    }
   ],
   "source": [
    "'''Programme for checking the temprature of a nuclear power'''"
   ]
  },
  {
   "cell_type": "code",
   "execution_count": 4,
   "metadata": {},
   "outputs": [
    {
     "name": "stdout",
     "output_type": "stream",
     "text": [
      "Everithing is fine\n"
     ]
    }
   ],
   "source": [
    "max_temp = 40\n",
    "min_temp = 10\n",
    "current_temp = 12\n",
    "\n",
    "if current_temp > max_temp:\n",
    "    print(\"Core temperature above safe levels. Everyone panic!!\")\n",
    "elif current_temp < min_temp:\n",
    "    print(\"Temperature levels low. Please make a fire\")\n",
    "else:\n",
    "    print(\"Everithing is fine\")"
   ]
  }
 ],
 "metadata": {
  "kernelspec": {
   "display_name": "Python 3 (ipykernel)",
   "language": "python",
   "name": "python3"
  },
  "language_info": {
   "codemirror_mode": {
    "name": "ipython",
    "version": 3
   },
   "file_extension": ".py",
   "mimetype": "text/x-python",
   "name": "python",
   "nbconvert_exporter": "python",
   "pygments_lexer": "ipython3",
   "version": "3.10.8"
  }
 },
 "nbformat": 4,
 "nbformat_minor": 2
}
