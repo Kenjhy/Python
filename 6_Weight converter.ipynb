{
 "cells": [
  {
   "cell_type": "markdown",
   "id": "4abef682",
   "metadata": {},
   "source": [
    "# 1 pound = libra\n",
    "# 0.4535 Kilograms = Kilogramos\n",
    "# 1000 Grams = Gramos\n",
    "# then 1 pound = 0.4535 Kilograms = 500 Grams"
   ]
  },
  {
   "cell_type": "code",
   "execution_count": 1,
   "id": "53e764c5",
   "metadata": {},
   "outputs": [
    {
     "data": {
      "text/plain": [
       "'\\n-Create a variable that is the multiplier for Pounds to Kg (Need to research)\\n-Input for user (Pounds)\\n-Output for user (Kg)\\n'"
      ]
     },
     "execution_count": 1,
     "metadata": {},
     "output_type": "execute_result"
    }
   ],
   "source": [
    "'''\n",
    "-Create a variable that is the multiplier for Pounds to Kg (Need to research)\n",
    "-Input for user (Pounds)\n",
    "-Output for user (Kg)\n",
    "'''"
   ]
  },
  {
   "cell_type": "code",
   "execution_count": 3,
   "id": "3e716093",
   "metadata": {},
   "outputs": [
    {
     "name": "stdout",
     "output_type": "stream",
     "text": [
      "You entered: 3. This converts to : 1.3607771100000001 pounds\n"
     ]
    }
   ],
   "source": [
    "conversion_multiplier = 0.45359237\n",
    "user_prounds = int(input('Enter the amoun of Pounds to convert to Kg'))\n",
    "converted_kg = user_prounds * conversion_multiplier\n",
    "print('You entered: ' + str(user_prounds)+ '. This converts to : '+ str(converted_kg)+ ' pounds')\n"
   ]
  }
 ],
 "metadata": {
  "kernelspec": {
   "display_name": "Python 3 (ipykernel)",
   "language": "python",
   "name": "python3"
  },
  "language_info": {
   "codemirror_mode": {
    "name": "ipython",
    "version": 3
   },
   "file_extension": ".py",
   "mimetype": "text/x-python",
   "name": "python",
   "nbconvert_exporter": "python",
   "pygments_lexer": "ipython3",
   "version": "3.10.8"
  }
 },
 "nbformat": 4,
 "nbformat_minor": 5
}
