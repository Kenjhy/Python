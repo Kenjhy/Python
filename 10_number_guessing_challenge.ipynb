{
 "cells": [
  {
   "cell_type": "code",
   "execution_count": 1,
   "metadata": {},
   "outputs": [
    {
     "data": {
      "text/plain": [
       "\"\\nCreate a programme that: \\n- Chooses a number between 1-100\\n- Take a users guess and tells them if they are correct o not\\n- Bonus: Tell the user if their guess was lower or higher than the computer's number\\n\""
      ]
     },
     "execution_count": 1,
     "metadata": {},
     "output_type": "execute_result"
    }
   ],
   "source": [
    "'''\n",
    "Create a programme that: \n",
    "- Chooses a number between 1-100\n",
    "- Take a users guess and tells them if they are correct o not\n",
    "- Bonus: Tell the user if their guess was lower or higher than the computer's number\n",
    "'''"
   ]
  },
  {
   "cell_type": "code",
   "execution_count": 2,
   "metadata": {},
   "outputs": [
    {
     "data": {
      "text/plain": [
       "\"\\n- Import random\\n- Generate randint 1-100\\n- Use input to get user guess (don't forget to cast the string into a integer)\\n- If user guess is right - print success, else - fail \\n- If user guess is lower, tell them lower, if higher, tell them higher \\n\""
      ]
     },
     "execution_count": 2,
     "metadata": {},
     "output_type": "execute_result"
    }
   ],
   "source": [
    "'''\n",
    "- Import random\n",
    "- Generate randint 1-100\n",
    "- Use input to get user guess (don't forget to cast the string into a integer)\n",
    "- If user guess is right - print success, else - fail \n",
    "- If user guess is lower, tell them lower, if higher, tell them higher \n",
    "'''"
   ]
  },
  {
   "cell_type": "code",
   "execution_count": 8,
   "metadata": {},
   "outputs": [
    {
     "name": "stdout",
     "output_type": "stream",
     "text": [
      "Your guess: 1, the actual computer number: 5\n"
     ]
    }
   ],
   "source": [
    "import random\n",
    "computer_num = random.randint(1,10)\n",
    "user_guess = int(input(\"Please enter a number between 1 and 10\"))\n",
    "print(\"Your guess: {}, the actual computer number: {}\".format(user_guess, computer_num))"
   ]
  },
  {
   "cell_type": "code",
   "execution_count": 9,
   "metadata": {},
   "outputs": [
    {
     "name": "stdout",
     "output_type": "stream",
     "text": [
      "Too low\n"
     ]
    }
   ],
   "source": [
    "if user_guess == computer_num:\n",
    "    print(\"Congrats! Your guess was correct!\")\n",
    "elif user_guess > computer_num:\n",
    "    print(\"Too high\")\n",
    "elif user_guess < computer_num:\n",
    "    print(\"Too low\")\n",
    "else:\n",
    "    print(\"Wrong sucka\")"
   ]
  }
 ],
 "metadata": {
  "kernelspec": {
   "display_name": "Python 3 (ipykernel)",
   "language": "python",
   "name": "python3"
  },
  "language_info": {
   "codemirror_mode": {
    "name": "ipython",
    "version": 3
   },
   "file_extension": ".py",
   "mimetype": "text/x-python",
   "name": "python",
   "nbconvert_exporter": "python",
   "pygments_lexer": "ipython3",
   "version": "3.10.8"
  }
 },
 "nbformat": 4,
 "nbformat_minor": 2
}
